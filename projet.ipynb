{
 "cells": [
  {
   "cell_type": "code",
   "execution_count": 1,
   "id": "b25b1f2c-0280-41e1-804e-0c5dd96cefe4",
   "metadata": {},
   "outputs": [],
   "source": [
    "import numpy as np\n",
    "import pandas as pd\n",
    "import matplotlib.pyplot as plt\n",
    "import seaborn as sns\n",
    "import optuna as op\n",
    "from sklearn.model_selection import cross_val_score, cross_validate\n",
    "from sklearn.linear_model import LogisticRegression\n",
    "from sklearn.preprocessing import StandardScaler, PolynomialFeatures\n",
    "from sklearn.model_selection import train_test_split\n",
    "from imblearn.over_sampling import SMOTE\n",
    "from collections import Counter\n",
    "from sklearn.metrics import accuracy_score, classification_report, confusion_matrix\n",
    "import joblib\n",
    "from sklearn.preprocessing import LabelEncoder"
   ]
  },
  {
   "cell_type": "code",
   "execution_count": 12,
   "id": "a1b3939a-03cc-438e-9bbd-28a29b1374a7",
   "metadata": {},
   "outputs": [],
   "source": [
    "# Load data\n",
    "df = pd.read_csv(r\"C:\\Users\\HP\\Documents\\datascience projects\\heart attack prediction\\heart_attack_youngsters_india.csv\")\n",
    "df.columns = df.columns.str.replace(r\"\\(.*?\\)\", \"\", regex=True).str.strip().str.replace(\" \",\"_\")"
   ]
  },
  {
   "cell_type": "code",
   "execution_count": null,
   "id": "455e826f-9c42-420a-9839-fc867cb64e85",
   "metadata": {},
   "outputs": [],
   "source": [
    "# Drop unnecessary columns\n",
    "columns_to_drop = [\n",
    "    'Region', 'Screen_Time', 'Diet_Type', 'ECG_Results', \n",
    "    'Family_History_of_Heart_Disease', 'Resting_Heart_Rate', \n",
    "    'Blood_Oxygen_Levels', 'Triglyceride_Levels'\n",
    "]\n",
    "\n",
    "# Drop columns in the dataset\n",
    "X = df.drop(columns=columns_to_drop)\n",
    "\n",
    "# Split data again after dropping unnecessary columns\n",
    "X_train, X_test, y_train, y_test = train_test_split(X, y, test_size=0.3, random_state=42, stratify=y)\n",
    "\n",
    "# Apply SMOTE to the training set\n",
    "smote = SMOTE(random_state=42)\n",
    "X_train_smote, y_train_smote = smote.fit_resample(X_train, y_train)\n",
    "\n",
    "# Verify class distribution after SMOTE\n",
    "print(\"After SMOTE class distribution:\", Counter(y_train_smote))\n",
    "\n",
    "# Normalize the features\n",
    "scaler = StandardScaler()\n",
    "X_train_std = scaler.fit_transform(X_train_smote)\n",
    "X_test_std = scaler.transform(X_test)\n",
    "\n",
    "# Apply polynomial transformation\n",
    "poly = PolynomialFeatures(degree=2)\n",
    "X_train_poly = poly.fit_transform(X_train_std)\n",
    "X_test_poly = poly.transform(X_test_std)\n",
    "\n",
    "# Logistic Regression Model\n",
    "model = LogisticRegression(\n",
    "    penalty='l2',\n",
    "    C=0.4347658976229592,\n",
    "    random_state=42,\n",
    "    solver='lbfgs',\n",
    "    max_iter=1000,\n",
    "    n_jobs=-1,\n",
    ")\n",
    "lor_model = model.fit(X_train_poly, y_train_smote)\n",
    "y_cap = lor_model.predict(X_test_poly)\n",
    "\n",
    "# Save the model and the transformer\n",
    "joblib.dump(lor_model, \"Heart_Attack_Prediction_model.pkl\")\n",
    "joblib.dump(poly, \"poly_transformer.pkl\")\n"
   ]
  },
  {
   "cell_type": "code",
   "execution_count": null,
   "id": "a577b231-1a12-428f-a19f-b67f86aedd6a",
   "metadata": {},
   "outputs": [],
   "source": []
  },
  {
   "cell_type": "code",
   "execution_count": null,
   "id": "7e1018ed-d577-4df1-9b22-c8c0acd3ee48",
   "metadata": {},
   "outputs": [],
   "source": []
  },
  {
   "cell_type": "code",
   "execution_count": null,
   "id": "bb2835bd-09d7-45c3-92e5-eaea42e5390e",
   "metadata": {},
   "outputs": [],
   "source": []
  },
  {
   "cell_type": "code",
   "execution_count": null,
   "id": "f49e7e9e-89f1-42a2-bd9c-fc3328d06c82",
   "metadata": {},
   "outputs": [],
   "source": []
  },
  {
   "cell_type": "code",
   "execution_count": null,
   "id": "427a36c2-0f02-49c6-90e6-497ec5d8d001",
   "metadata": {},
   "outputs": [],
   "source": []
  },
  {
   "cell_type": "code",
   "execution_count": null,
   "id": "4bc1afbd-44b2-41ed-8f14-48add8c81aba",
   "metadata": {},
   "outputs": [],
   "source": []
  },
  {
   "cell_type": "code",
   "execution_count": null,
   "id": "a8283d26-0b33-45ff-bd78-cc11c4536e91",
   "metadata": {},
   "outputs": [],
   "source": []
  },
  {
   "cell_type": "code",
   "execution_count": null,
   "id": "5c754a2e-eba2-4b15-be13-3027e85bc1d7",
   "metadata": {},
   "outputs": [],
   "source": []
  },
  {
   "cell_type": "code",
   "execution_count": null,
   "id": "c0a48879-2035-42a8-ba18-158dce3d7bbc",
   "metadata": {},
   "outputs": [],
   "source": []
  },
  {
   "cell_type": "code",
   "execution_count": null,
   "id": "5990c1d0-d6f6-4e28-83d1-3a565a0867b9",
   "metadata": {},
   "outputs": [],
   "source": []
  },
  {
   "cell_type": "code",
   "execution_count": null,
   "id": "bafccf1b-e5cb-4d67-a5f3-aef9b1254d2c",
   "metadata": {},
   "outputs": [],
   "source": []
  },
  {
   "cell_type": "code",
   "execution_count": null,
   "id": "132b3e1e-59f0-43a0-b71f-032c95c9486c",
   "metadata": {},
   "outputs": [],
   "source": []
  },
  {
   "cell_type": "code",
   "execution_count": null,
   "id": "b2147a9a-59ab-48e5-84cd-2f835ccfb3ea",
   "metadata": {},
   "outputs": [],
   "source": []
  },
  {
   "cell_type": "code",
   "execution_count": null,
   "id": "16532024-2616-4e44-93c3-1371868cd812",
   "metadata": {},
   "outputs": [],
   "source": []
  },
  {
   "cell_type": "code",
   "execution_count": 13,
   "id": "e2634744-493d-44e4-b2e3-f8332ad63b69",
   "metadata": {},
   "outputs": [],
   "source": [
    "# Data preprocessing\n",
    "df[\"Systolic\"] = df[\"Blood_Pressure\"].str.split(\"/\",expand=True)[0].astype(\"float\")\n",
    "df[\"Diastolic\"] = df[\"Blood_Pressure\"].str.split(\"/\",expand=True)[1].astype(\"float64\")\n",
    "df.drop(\"Blood_Pressure\", axis=1, inplace=True)"
   ]
  },
  {
   "cell_type": "code",
   "execution_count": 14,
   "id": "dfc07afb-beee-410b-a3e4-df67137663b0",
   "metadata": {},
   "outputs": [],
   "source": [
    "# Separate features and target variable\n",
    "X = df.drop(columns=['Heart_Attack_Likelihood'])\n",
    "y = df['Heart_Attack_Likelihood']"
   ]
  },
  {
   "cell_type": "code",
   "execution_count": 15,
   "id": "8cf1b695-ddb1-462c-8021-442b8c7d3060",
   "metadata": {},
   "outputs": [],
   "source": [
    "# Encode categorical columns\n",
    "cat_cols = X.select_dtypes(include='object').columns\n",
    "encoder = LabelEncoder()\n",
    "for col in cat_cols:\n",
    "    X[col] = encoder.fit_transform(X[col])\n",
    "\n",
    "# Encode target variable\n",
    "y = encoder.fit_transform(y)"
   ]
  },
  {
   "cell_type": "code",
   "execution_count": 16,
   "id": "23f0c915-583d-4874-8206-4e64c67fc856",
   "metadata": {},
   "outputs": [],
   "source": [
    "# Split the data into training and testing sets\n",
    "X_train, X_test, y_train, y_test = train_test_split(X, y, test_size=0.3, random_state=42, stratify=y)\n",
    "\n",
    "# Apply SMOTE to the training set\n",
    "smote = SMOTE(random_state=42)\n",
    "X_train_smote, y_train_smote = smote.fit_resample(X_train, y_train)"
   ]
  },
  {
   "cell_type": "code",
   "execution_count": 17,
   "id": "300cba4d-6301-4e5e-8ec4-fd4a3c2cce50",
   "metadata": {},
   "outputs": [],
   "source": [
    "# Standardize the features\n",
    "scaler = StandardScaler()\n",
    "X_train_std = scaler.fit_transform(X_train_smote)\n",
    "X_test_std = scaler.transform(X_test)"
   ]
  },
  {
   "cell_type": "code",
   "execution_count": 18,
   "id": "40ef6f52-50c6-40ff-bc9a-861967999f49",
   "metadata": {},
   "outputs": [],
   "source": [
    "# Apply PolynomialFeatures\n",
    "poly = PolynomialFeatures(degree=2)\n",
    "X_train_poly = poly.fit_transform(X_train_std)\n",
    "X_test_poly = poly.transform(X_test_std)"
   ]
  },
  {
   "cell_type": "code",
   "execution_count": 19,
   "id": "c0000438-9df4-453c-b98c-e38379f978be",
   "metadata": {},
   "outputs": [],
   "source": [
    "# Train Logistic Regression model\n",
    "model = LogisticRegression(penalty='l2', C=0.4347658976229592, random_state=42, solver='lbfgs', max_iter=1000, n_jobs=-1)\n",
    "lor_model = model.fit(X_train_poly, y_train_smote)"
   ]
  },
  {
   "cell_type": "code",
   "execution_count": 20,
   "id": "1e052041-2052-4e21-8cff-db70fde15080",
   "metadata": {},
   "outputs": [],
   "source": [
    "# Predict on the test set\n",
    "y_pred = lor_model.predict(X_test_poly)"
   ]
  },
  {
   "cell_type": "code",
   "execution_count": 21,
   "id": "f75f7494-a03a-4142-a12e-024501045391",
   "metadata": {},
   "outputs": [
    {
     "name": "stdout",
     "output_type": "stream",
     "text": [
      "Accuracy Score: 0.656\n",
      "Classification Report:\n",
      "               precision    recall  f1-score   support\n",
      "\n",
      "           0       0.79      0.78      0.78      2389\n",
      "           1       0.17      0.18      0.18       611\n",
      "\n",
      "    accuracy                           0.66      3000\n",
      "   macro avg       0.48      0.48      0.48      3000\n",
      "weighted avg       0.66      0.66      0.66      3000\n",
      "\n",
      "Confusion Matrix:\n",
      " [[1856  533]\n",
      " [ 499  112]]\n"
     ]
    }
   ],
   "source": [
    "# Evaluate the model\n",
    "print(\"Accuracy Score:\", accuracy_score(y_test, y_pred))\n",
    "print(\"Classification Report:\\n\", classification_report(y_test, y_pred))\n",
    "print(\"Confusion Matrix:\\n\", confusion_matrix(y_test, y_pred))"
   ]
  },
  {
   "cell_type": "code",
   "execution_count": 22,
   "id": "fc051f25-a26c-4770-b730-2481c15e1313",
   "metadata": {},
   "outputs": [
    {
     "data": {
      "text/plain": [
       "['scaler1.pkl']"
      ]
     },
     "execution_count": 22,
     "metadata": {},
     "output_type": "execute_result"
    }
   ],
   "source": [
    "# Save the model and the transformer\n",
    "joblib.dump(lor_model, \"Heart_Attack_Prediction_model1.pkl\")\n",
    "joblib.dump(poly, \"poly_transformer1.pkl\")\n",
    "joblib.dump(scaler, \"scaler1.pkl\")\n"
   ]
  },
  {
   "cell_type": "code",
   "execution_count": null,
   "id": "8c34707d-332f-4a7c-8ffd-7539f7b5b33c",
   "metadata": {},
   "outputs": [],
   "source": []
  }
 ],
 "metadata": {
  "kernelspec": {
   "display_name": "Python 3 (ipykernel)",
   "language": "python",
   "name": "python3"
  },
  "language_info": {
   "codemirror_mode": {
    "name": "ipython",
    "version": 3
   },
   "file_extension": ".py",
   "mimetype": "text/x-python",
   "name": "python",
   "nbconvert_exporter": "python",
   "pygments_lexer": "ipython3",
   "version": "3.12.6"
  }
 },
 "nbformat": 4,
 "nbformat_minor": 5
}
