{
 "cells": [
  {
   "cell_type": "code",
   "execution_count": 4,
   "id": "21dbaa8c-33fb-4b99-9381-328679f62c29",
   "metadata": {},
   "outputs": [],
   "source": [
    "import gradio as gr\n",
    "import joblib\n",
    "import numpy as np"
   ]
  },
  {
   "cell_type": "code",
   "execution_count": 29,
   "id": "36cb1ac1-2b51-4403-acba-2dafbbb76185",
   "metadata": {},
   "outputs": [
    {
     "ename": "NameError",
     "evalue": "name 'X_train_poly' is not defined",
     "output_type": "error",
     "traceback": [
      "\u001b[1;31m---------------------------------------------------------------------------\u001b[0m",
      "\u001b[1;31mNameError\u001b[0m                                 Traceback (most recent call last)",
      "Cell \u001b[1;32mIn[29], line 11\u001b[0m\n\u001b[0;32m      8\u001b[0m     \u001b[38;5;28;01mreturn\u001b[39;00m \u001b[38;5;124mf\u001b[39m\u001b[38;5;124m\"\u001b[39m\u001b[38;5;124mPredicted Class: \u001b[39m\u001b[38;5;132;01m{\u001b[39;00mprediction[\u001b[38;5;241m0\u001b[39m]\u001b[38;5;132;01m}\u001b[39;00m\u001b[38;5;124m\"\u001b[39m\n\u001b[0;32m     10\u001b[0m \u001b[38;5;66;03m# Create Gradio Interface\u001b[39;00m\n\u001b[1;32m---> 11\u001b[0m inputs \u001b[38;5;241m=\u001b[39m [gr\u001b[38;5;241m.\u001b[39mTextbox(label\u001b[38;5;241m=\u001b[39m\u001b[38;5;124m\"\u001b[39m\u001b[38;5;124mFeature \u001b[39m\u001b[38;5;124m\"\u001b[39m \u001b[38;5;241m+\u001b[39m \u001b[38;5;28mstr\u001b[39m(i\u001b[38;5;241m+\u001b[39m\u001b[38;5;241m1\u001b[39m)) \u001b[38;5;28;01mfor\u001b[39;00m i \u001b[38;5;129;01min\u001b[39;00m \u001b[38;5;28mrange\u001b[39m(\u001b[43mX_train_poly\u001b[49m\u001b[38;5;241m.\u001b[39mshape[\u001b[38;5;241m1\u001b[39m])]\n\u001b[0;32m     12\u001b[0m interface \u001b[38;5;241m=\u001b[39m gr\u001b[38;5;241m.\u001b[39mInterface(fn\u001b[38;5;241m=\u001b[39mpredict, inputs\u001b[38;5;241m=\u001b[39minputs, outputs\u001b[38;5;241m=\u001b[39m\u001b[38;5;124m\"\u001b[39m\u001b[38;5;124mtext\u001b[39m\u001b[38;5;124m\"\u001b[39m)\n\u001b[0;32m     14\u001b[0m \u001b[38;5;66;03m# Launch the app\u001b[39;00m\n",
      "\u001b[1;31mNameError\u001b[0m: name 'X_train_poly' is not defined"
     ]
    }
   ],
   "source": [
    "# Load the trained model\n",
    "model = joblib.load(\"Heart_Attack_Prediction_model.pkl\")\n",
    "\n",
    "# Define prediction function\n",
    "def predict(features):\n",
    "    features = np.array(features).reshape(1, -1)\n",
    "    prediction = model.predict(features)\n",
    "    return f\"Predicted Class: {prediction[0]}\"\n",
    "\n",
    "# Create Gradio Interface\n",
    "inputs = [gr.Textbox(label=\"Feature \" + str(i+1)) for i in range(X_train_poly.shape[1])]\n",
    "interface = gr.Interface(fn=predict, inputs=inputs, outputs=\"text\")\n",
    "\n",
    "# Launch the app\n",
    "interface.launch()"
   ]
  },
  {
   "cell_type": "code",
   "execution_count": 8,
   "id": "a7eb681f-f882-4999-918f-3712ce78c833",
   "metadata": {},
   "outputs": [
    {
     "data": {
      "text/plain": [
       "378"
      ]
     },
     "execution_count": 8,
     "metadata": {},
     "output_type": "execute_result"
    }
   ],
   "source": [
    "model.n_features_in_"
   ]
  },
  {
   "cell_type": "code",
   "execution_count": 30,
   "id": "79e8ec2c-bca1-49c4-9b85-1954fcc7e7e4",
   "metadata": {},
   "outputs": [
    {
     "name": "stdout",
     "output_type": "stream",
     "text": [
      "* Running on local URL:  http://127.0.0.1:7869\n",
      "\n",
      "To create a public link, set `share=True` in `launch()`.\n"
     ]
    },
    {
     "data": {
      "text/html": [
       "<div><iframe src=\"http://127.0.0.1:7869/\" width=\"100%\" height=\"500\" allow=\"autoplay; camera; microphone; clipboard-read; clipboard-write;\" frameborder=\"0\" allowfullscreen></iframe></div>"
      ],
      "text/plain": [
       "<IPython.core.display.HTML object>"
      ]
     },
     "metadata": {},
     "output_type": "display_data"
    },
    {
     "data": {
      "text/plain": []
     },
     "execution_count": 30,
     "metadata": {},
     "output_type": "execute_result"
    }
   ],
   "source": [
    "import joblib\n",
    "import numpy as np\n",
    "import gradio as gr\n",
    "\n",
    "# Load the trained model\n",
    "model = joblib.load(\"Heart_Attack_Prediction_model.pkl\")\n",
    "\n",
    "# Define the expected number of input features\n",
    "num_features = model.n_features_in_  # Get the number of features expected by the model\n",
    "\n",
    "# Define prediction function\n",
    "def predict(*features):\n",
    "    features = np.array(features, dtype=float).reshape(1, -1)\n",
    "    prediction = model.predict(features)\n",
    "    return f\"Predicted Class: {prediction[0]}\"\n",
    "\n",
    "# Create Gradio Interface\n",
    "inputs = [gr.Textbox(label=f\"Feature {i+1}\") for i in range(num_features)]\n",
    "interface = gr.Interface(fn=predict, inputs=inputs, outputs=\"text\")\n",
    "\n",
    "# Launch the app\n",
    "interface.launch()\n"
   ]
  },
  {
   "cell_type": "code",
   "execution_count": 10,
   "id": "68ef1557-0bad-4606-8c21-ffaecf2384e9",
   "metadata": {},
   "outputs": [
    {
     "name": "stdout",
     "output_type": "stream",
     "text": [
      "* Running on local URL:  http://127.0.0.1:7861\n",
      "\n",
      "To create a public link, set `share=True` in `launch()`.\n"
     ]
    },
    {
     "data": {
      "text/html": [
       "<div><iframe src=\"http://127.0.0.1:7861/\" width=\"100%\" height=\"500\" allow=\"autoplay; camera; microphone; clipboard-read; clipboard-write;\" frameborder=\"0\" allowfullscreen></iframe></div>"
      ],
      "text/plain": [
       "<IPython.core.display.HTML object>"
      ]
     },
     "metadata": {},
     "output_type": "display_data"
    },
    {
     "data": {
      "text/plain": []
     },
     "execution_count": 10,
     "metadata": {},
     "output_type": "execute_result"
    },
    {
     "name": "stderr",
     "output_type": "stream",
     "text": [
      "Traceback (most recent call last):\n",
      "  File \"C:\\Users\\HP\\AppData\\Local\\Programs\\Python\\Python312\\Lib\\site-packages\\gradio\\queueing.py\", line 625, in process_events\n",
      "    response = await route_utils.call_process_api(\n",
      "               ^^^^^^^^^^^^^^^^^^^^^^^^^^^^^^^^^^^\n",
      "  File \"C:\\Users\\HP\\AppData\\Local\\Programs\\Python\\Python312\\Lib\\site-packages\\gradio\\route_utils.py\", line 322, in call_process_api\n",
      "    output = await app.get_blocks().process_api(\n",
      "             ^^^^^^^^^^^^^^^^^^^^^^^^^^^^^^^^^^^\n",
      "  File \"C:\\Users\\HP\\AppData\\Local\\Programs\\Python\\Python312\\Lib\\site-packages\\gradio\\blocks.py\", line 2051, in process_api\n",
      "    result = await self.call_function(\n",
      "             ^^^^^^^^^^^^^^^^^^^^^^^^^\n",
      "  File \"C:\\Users\\HP\\AppData\\Local\\Programs\\Python\\Python312\\Lib\\site-packages\\gradio\\blocks.py\", line 1598, in call_function\n",
      "    prediction = await anyio.to_thread.run_sync(  # type: ignore\n",
      "                 ^^^^^^^^^^^^^^^^^^^^^^^^^^^^^^^^^^^^^^^^^^^^^^^\n",
      "  File \"C:\\Users\\HP\\AppData\\Local\\Programs\\Python\\Python312\\Lib\\site-packages\\anyio\\to_thread.py\", line 33, in run_sync\n",
      "    return await get_asynclib().run_sync_in_worker_thread(\n",
      "           ^^^^^^^^^^^^^^^^^^^^^^^^^^^^^^^^^^^^^^^^^^^^^^^\n",
      "  File \"C:\\Users\\HP\\AppData\\Local\\Programs\\Python\\Python312\\Lib\\site-packages\\anyio\\_backends\\_asyncio.py\", line 877, in run_sync_in_worker_thread\n",
      "    return await future\n",
      "           ^^^^^^^^^^^^\n",
      "  File \"C:\\Users\\HP\\AppData\\Local\\Programs\\Python\\Python312\\Lib\\site-packages\\anyio\\_backends\\_asyncio.py\", line 807, in run\n",
      "    result = context.run(func, *args)\n",
      "             ^^^^^^^^^^^^^^^^^^^^^^^^\n",
      "  File \"C:\\Users\\HP\\AppData\\Local\\Programs\\Python\\Python312\\Lib\\site-packages\\gradio\\utils.py\", line 883, in wrapper\n",
      "    response = f(*args, **kwargs)\n",
      "               ^^^^^^^^^^^^^^^^^^\n",
      "  File \"C:\\Users\\HP\\AppData\\Local\\Temp\\ipykernel_23252\\414970652.py\", line 28, in predict\n",
      "    prediction = model.predict(features)\n",
      "                 ^^^^^^^^^^^^^^^^^^^^^^^\n",
      "  File \"C:\\Users\\HP\\AppData\\Local\\Programs\\Python\\Python312\\Lib\\site-packages\\sklearn\\linear_model\\_base.py\", line 382, in predict\n",
      "    scores = self.decision_function(X)\n",
      "             ^^^^^^^^^^^^^^^^^^^^^^^^^\n",
      "  File \"C:\\Users\\HP\\AppData\\Local\\Programs\\Python\\Python312\\Lib\\site-packages\\sklearn\\linear_model\\_base.py\", line 363, in decision_function\n",
      "    X = self._validate_data(X, accept_sparse=\"csr\", reset=False)\n",
      "        ^^^^^^^^^^^^^^^^^^^^^^^^^^^^^^^^^^^^^^^^^^^^^^^^^^^^^^^^\n",
      "  File \"C:\\Users\\HP\\AppData\\Local\\Programs\\Python\\Python312\\Lib\\site-packages\\sklearn\\base.py\", line 654, in _validate_data\n",
      "    self._check_n_features(X, reset=reset)\n",
      "  File \"C:\\Users\\HP\\AppData\\Local\\Programs\\Python\\Python312\\Lib\\site-packages\\sklearn\\base.py\", line 443, in _check_n_features\n",
      "    raise ValueError(\n",
      "ValueError: X has 11 features, but LogisticRegression is expecting 378 features as input.\n",
      "Traceback (most recent call last):\n",
      "  File \"C:\\Users\\HP\\AppData\\Local\\Programs\\Python\\Python312\\Lib\\site-packages\\gradio\\queueing.py\", line 625, in process_events\n",
      "    response = await route_utils.call_process_api(\n",
      "               ^^^^^^^^^^^^^^^^^^^^^^^^^^^^^^^^^^^\n",
      "  File \"C:\\Users\\HP\\AppData\\Local\\Programs\\Python\\Python312\\Lib\\site-packages\\gradio\\route_utils.py\", line 322, in call_process_api\n",
      "    output = await app.get_blocks().process_api(\n",
      "             ^^^^^^^^^^^^^^^^^^^^^^^^^^^^^^^^^^^\n",
      "  File \"C:\\Users\\HP\\AppData\\Local\\Programs\\Python\\Python312\\Lib\\site-packages\\gradio\\blocks.py\", line 2051, in process_api\n",
      "    result = await self.call_function(\n",
      "             ^^^^^^^^^^^^^^^^^^^^^^^^^\n",
      "  File \"C:\\Users\\HP\\AppData\\Local\\Programs\\Python\\Python312\\Lib\\site-packages\\gradio\\blocks.py\", line 1598, in call_function\n",
      "    prediction = await anyio.to_thread.run_sync(  # type: ignore\n",
      "                 ^^^^^^^^^^^^^^^^^^^^^^^^^^^^^^^^^^^^^^^^^^^^^^^\n",
      "  File \"C:\\Users\\HP\\AppData\\Local\\Programs\\Python\\Python312\\Lib\\site-packages\\anyio\\to_thread.py\", line 33, in run_sync\n",
      "    return await get_asynclib().run_sync_in_worker_thread(\n",
      "           ^^^^^^^^^^^^^^^^^^^^^^^^^^^^^^^^^^^^^^^^^^^^^^^\n",
      "  File \"C:\\Users\\HP\\AppData\\Local\\Programs\\Python\\Python312\\Lib\\site-packages\\anyio\\_backends\\_asyncio.py\", line 877, in run_sync_in_worker_thread\n",
      "    return await future\n",
      "           ^^^^^^^^^^^^\n",
      "  File \"C:\\Users\\HP\\AppData\\Local\\Programs\\Python\\Python312\\Lib\\site-packages\\anyio\\_backends\\_asyncio.py\", line 807, in run\n",
      "    result = context.run(func, *args)\n",
      "             ^^^^^^^^^^^^^^^^^^^^^^^^\n",
      "  File \"C:\\Users\\HP\\AppData\\Local\\Programs\\Python\\Python312\\Lib\\site-packages\\gradio\\utils.py\", line 883, in wrapper\n",
      "    response = f(*args, **kwargs)\n",
      "               ^^^^^^^^^^^^^^^^^^\n",
      "  File \"C:\\Users\\HP\\AppData\\Local\\Temp\\ipykernel_23252\\414970652.py\", line 28, in predict\n",
      "    prediction = model.predict(features)\n",
      "                 ^^^^^^^^^^^^^^^^^^^^^^^\n",
      "  File \"C:\\Users\\HP\\AppData\\Local\\Programs\\Python\\Python312\\Lib\\site-packages\\sklearn\\linear_model\\_base.py\", line 382, in predict\n",
      "    scores = self.decision_function(X)\n",
      "             ^^^^^^^^^^^^^^^^^^^^^^^^^\n",
      "  File \"C:\\Users\\HP\\AppData\\Local\\Programs\\Python\\Python312\\Lib\\site-packages\\sklearn\\linear_model\\_base.py\", line 363, in decision_function\n",
      "    X = self._validate_data(X, accept_sparse=\"csr\", reset=False)\n",
      "        ^^^^^^^^^^^^^^^^^^^^^^^^^^^^^^^^^^^^^^^^^^^^^^^^^^^^^^^^\n",
      "  File \"C:\\Users\\HP\\AppData\\Local\\Programs\\Python\\Python312\\Lib\\site-packages\\sklearn\\base.py\", line 654, in _validate_data\n",
      "    self._check_n_features(X, reset=reset)\n",
      "  File \"C:\\Users\\HP\\AppData\\Local\\Programs\\Python\\Python312\\Lib\\site-packages\\sklearn\\base.py\", line 443, in _check_n_features\n",
      "    raise ValueError(\n",
      "ValueError: X has 11 features, but LogisticRegression is expecting 378 features as input.\n"
     ]
    },
    {
     "name": "stdout",
     "output_type": "stream",
     "text": [
      "Created dataset file at: .gradio\\flagged\\dataset1.csv\n"
     ]
    }
   ],
   "source": [
    "import joblib\n",
    "import numpy as np\n",
    "import gradio as gr\n",
    "\n",
    "# Load the trained model\n",
    "model = joblib.load(\"Heart_Attack_Prediction_model.pkl\")\n",
    "\n",
    "# Define prediction function\n",
    "def predict(age, gender, smoking_status, alcohol_consumption, physical_activity, \n",
    "            sleep_duration, diabetes, hypertension, cholesterol, bmi, stress_level):\n",
    "    \n",
    "    # Convert categorical inputs into numerical format\n",
    "    gender = 1 if gender.lower() == \"male\" else 0\n",
    "    smoking_status = 1 if smoking_status.lower() == \"yes\" else 0\n",
    "    alcohol_consumption = 1 if alcohol_consumption.lower() == \"yes\" else 0\n",
    "    diabetes = 1 if diabetes.lower() == \"yes\" else 0\n",
    "    hypertension = 1 if hypertension.lower() == \"yes\" else 0\n",
    "    stress_level_map = {\"low\": 0, \"medium\": 1, \"high\": 2}\n",
    "    stress_level = stress_level_map.get(stress_level.lower(), 1)  # Default: Medium\n",
    "    physical_activity_map = {\"low\": 0, \"medium\": 1, \"high\": 2}\n",
    "    physical_activity = physical_activity_map.get(physical_activity.lower(), 1)  # Default: Medium\n",
    "\n",
    "    # Create feature array\n",
    "    features = np.array([age, gender, smoking_status, alcohol_consumption, physical_activity, \n",
    "                         sleep_duration, diabetes, hypertension, cholesterol, bmi, stress_level], dtype=float).reshape(1, -1)\n",
    "    \n",
    "    # Predict\n",
    "    prediction = model.predict(features)\n",
    "    return f\"Predicted Heart Attack Risk: {prediction[0]}\"\n",
    "\n",
    "# Define Gradio Interface with selected features\n",
    "inputs = [\n",
    "    gr.Number(label=\"Age\"),\n",
    "    gr.Radio([\"Male\", \"Female\"], label=\"Gender\"),\n",
    "    gr.Radio([\"Yes\", \"No\"], label=\"Smoking Status\"),\n",
    "    gr.Radio([\"Yes\", \"No\"], label=\"Alcohol Consumption\"),\n",
    "    gr.Radio([\"Low\", \"Medium\", \"High\"], label=\"Physical Activity Level\"),\n",
    "    gr.Number(label=\"Sleep Duration (Hours)\"),\n",
    "    gr.Radio([\"Yes\", \"No\"], label=\"Diabetes\"),\n",
    "    gr.Radio([\"Yes\", \"No\"], label=\"Hypertension\"),\n",
    "    gr.Number(label=\"Cholesterol Level\"),\n",
    "    gr.Number(label=\"BMI\"),\n",
    "    gr.Radio([\"Low\", \"Medium\", \"High\"], label=\"Stress Level\"),\n",
    "]\n",
    "\n",
    "# Launch Gradio App\n",
    "interface = gr.Interface(fn=predict, inputs=inputs, outputs=\"text\")\n",
    "interface.launch()\n"
   ]
  },
  {
   "cell_type": "code",
   "execution_count": null,
   "id": "44ea4a19-aa3b-4c13-8536-79fad1e5b408",
   "metadata": {},
   "outputs": [],
   "source": []
  },
  {
   "cell_type": "code",
   "execution_count": null,
   "id": "4109a4b4-54bf-468e-acfc-6ba0c18b2fe1",
   "metadata": {},
   "outputs": [],
   "source": []
  },
  {
   "cell_type": "code",
   "execution_count": 31,
   "id": "a048d279-9c28-46c9-b706-216d37344c67",
   "metadata": {},
   "outputs": [
    {
     "ename": "FileNotFoundError",
     "evalue": "[Errno 2] No such file or directory: 'poly_transformer.pkl'",
     "output_type": "error",
     "traceback": [
      "\u001b[1;31m---------------------------------------------------------------------------\u001b[0m",
      "\u001b[1;31mFileNotFoundError\u001b[0m                         Traceback (most recent call last)",
      "Cell \u001b[1;32mIn[31], line 7\u001b[0m\n\u001b[0;32m      5\u001b[0m \u001b[38;5;66;03m# Load the trained Logistic Regression model and the PolynomialFeatures transformer\u001b[39;00m\n\u001b[0;32m      6\u001b[0m model \u001b[38;5;241m=\u001b[39m joblib\u001b[38;5;241m.\u001b[39mload(\u001b[38;5;124m\"\u001b[39m\u001b[38;5;124mHeart_Attack_Prediction_model.pkl\u001b[39m\u001b[38;5;124m\"\u001b[39m)\n\u001b[1;32m----> 7\u001b[0m poly_transformer \u001b[38;5;241m=\u001b[39m \u001b[43mjoblib\u001b[49m\u001b[38;5;241;43m.\u001b[39;49m\u001b[43mload\u001b[49m\u001b[43m(\u001b[49m\u001b[38;5;124;43m\"\u001b[39;49m\u001b[38;5;124;43mpoly_transformer.pkl\u001b[39;49m\u001b[38;5;124;43m\"\u001b[39;49m\u001b[43m)\u001b[49m  \u001b[38;5;66;03m# Load the same transformer used during training\u001b[39;00m\n\u001b[0;32m      9\u001b[0m \u001b[38;5;66;03m# Streamlit UI\u001b[39;00m\n\u001b[0;32m     10\u001b[0m st\u001b[38;5;241m.\u001b[39mtitle(\u001b[38;5;124m\"\u001b[39m\u001b[38;5;124mHeart Disease Prediction Web App\u001b[39m\u001b[38;5;124m\"\u001b[39m)\n",
      "File \u001b[1;32m~\\AppData\\Local\\Programs\\Python\\Python312\\Lib\\site-packages\\joblib\\numpy_pickle.py:650\u001b[0m, in \u001b[0;36mload\u001b[1;34m(filename, mmap_mode)\u001b[0m\n\u001b[0;32m    648\u001b[0m         obj \u001b[38;5;241m=\u001b[39m _unpickle(fobj)\n\u001b[0;32m    649\u001b[0m \u001b[38;5;28;01melse\u001b[39;00m:\n\u001b[1;32m--> 650\u001b[0m     \u001b[38;5;28;01mwith\u001b[39;00m \u001b[38;5;28;43mopen\u001b[39;49m\u001b[43m(\u001b[49m\u001b[43mfilename\u001b[49m\u001b[43m,\u001b[49m\u001b[43m \u001b[49m\u001b[38;5;124;43m'\u001b[39;49m\u001b[38;5;124;43mrb\u001b[39;49m\u001b[38;5;124;43m'\u001b[39;49m\u001b[43m)\u001b[49m \u001b[38;5;28;01mas\u001b[39;00m f:\n\u001b[0;32m    651\u001b[0m         \u001b[38;5;28;01mwith\u001b[39;00m _read_fileobject(f, filename, mmap_mode) \u001b[38;5;28;01mas\u001b[39;00m fobj:\n\u001b[0;32m    652\u001b[0m             \u001b[38;5;28;01mif\u001b[39;00m \u001b[38;5;28misinstance\u001b[39m(fobj, \u001b[38;5;28mstr\u001b[39m):\n\u001b[0;32m    653\u001b[0m                 \u001b[38;5;66;03m# if the returned file object is a string, this means we\u001b[39;00m\n\u001b[0;32m    654\u001b[0m                 \u001b[38;5;66;03m# try to load a pickle file generated with an version of\u001b[39;00m\n\u001b[0;32m    655\u001b[0m                 \u001b[38;5;66;03m# Joblib so we load it with joblib compatibility function.\u001b[39;00m\n",
      "\u001b[1;31mFileNotFoundError\u001b[0m: [Errno 2] No such file or directory: 'poly_transformer.pkl'"
     ]
    }
   ],
   "source": [
    "import streamlit as st\n",
    "import joblib\n",
    "import numpy as np\n",
    "\n",
    "# Load the trained Logistic Regression model and the PolynomialFeatures transformer\n",
    "model = joblib.load(\"Heart_Attack_Prediction_model.pkl\")\n",
    "poly_transformer = joblib.load(\"poly_transformer.pkl\")  # Load the same transformer used during training\n",
    "\n",
    "# Streamlit UI\n",
    "st.title(\"Heart Disease Prediction Web App\")\n",
    "st.write(\"Enter the required details to predict heart attack likelihood.\")\n",
    "\n",
    "# Define the correct number of features (adjust based on your transformed data)\n",
    "num_features = 10  # Replace with the correct number of features used during training\n",
    "user_inputs = []\n",
    "\n",
    "for i in range(num_features):\n",
    "    user_input = st.number_input(f\"Feature {i+1}\", value=0.0)\n",
    "    user_inputs.append(user_input)\n",
    "\n",
    "# Prediction logic\n",
    "if st.button(\"Predict\"):\n",
    "    try:\n",
    "        # Convert the user inputs into a numpy array\n",
    "        features = np.array(user_inputs).reshape(1, -1)\n",
    "        \n",
    "        # Apply the same polynomial transformation (if used during training)\n",
    "        transformed_features = poly_transformer.transform(features)\n",
    "\n",
    "        # Make a prediction\n",
    "        prediction = model.predict(transformed_features)\n",
    "\n",
    "        # Display the prediction result\n",
    "        st.success(f\"Predicted Class: {prediction[0]}\")  # Display predicted class\n",
    "        \n",
    "    except Exception as e:\n",
    "        st.error(f\"Error during prediction: {str(e)}\")\n",
    "\n",
    "# Launch the app\n",
    "interface.launch()"
   ]
  },
  {
   "cell_type": "code",
   "execution_count": null,
   "id": "0de98922-34c1-4cf1-a61f-35b901c9daca",
   "metadata": {},
   "outputs": [],
   "source": []
  },
  {
   "cell_type": "code",
   "execution_count": null,
   "id": "e0813556-7757-46e8-9af7-1eda0914138d",
   "metadata": {},
   "outputs": [],
   "source": []
  },
  {
   "cell_type": "code",
   "execution_count": 2,
   "id": "49fc5ed5-00ca-42fc-bc1a-f6f8d89a76c3",
   "metadata": {},
   "outputs": [
    {
     "ename": "FileNotFoundError",
     "evalue": "[Errno 2] No such file or directory: 'Heart_Attack_Prediction_model1.pkl'",
     "output_type": "error",
     "traceback": [
      "\u001b[1;31m---------------------------------------------------------------------------\u001b[0m",
      "\u001b[1;31mFileNotFoundError\u001b[0m                         Traceback (most recent call last)",
      "Cell \u001b[1;32mIn[2], line 6\u001b[0m\n\u001b[0;32m      3\u001b[0m \u001b[38;5;28;01mimport\u001b[39;00m\u001b[38;5;250m \u001b[39m\u001b[38;5;21;01mgradio\u001b[39;00m\u001b[38;5;250m \u001b[39m\u001b[38;5;28;01mas\u001b[39;00m\u001b[38;5;250m \u001b[39m\u001b[38;5;21;01mgr\u001b[39;00m\n\u001b[0;32m      5\u001b[0m \u001b[38;5;66;03m# Load the trained model, polynomial transformer, and scaler\u001b[39;00m\n\u001b[1;32m----> 6\u001b[0m model \u001b[38;5;241m=\u001b[39m \u001b[43mjoblib\u001b[49m\u001b[38;5;241;43m.\u001b[39;49m\u001b[43mload\u001b[49m\u001b[43m(\u001b[49m\u001b[38;5;124;43m\"\u001b[39;49m\u001b[38;5;124;43mHeart_Attack_Prediction_model1.pkl\u001b[39;49m\u001b[38;5;124;43m\"\u001b[39;49m\u001b[43m)\u001b[49m\n\u001b[0;32m      7\u001b[0m poly \u001b[38;5;241m=\u001b[39m joblib\u001b[38;5;241m.\u001b[39mload(\u001b[38;5;124m\"\u001b[39m\u001b[38;5;124mpoly_transformer1.pkl\u001b[39m\u001b[38;5;124m\"\u001b[39m)\n\u001b[0;32m      8\u001b[0m scaler \u001b[38;5;241m=\u001b[39m joblib\u001b[38;5;241m.\u001b[39mload(\u001b[38;5;124m\"\u001b[39m\u001b[38;5;124mscaler1.pkl\u001b[39m\u001b[38;5;124m\"\u001b[39m)\n",
      "File \u001b[1;32m~\\AppData\\Local\\Programs\\Python\\Python312\\Lib\\site-packages\\joblib\\numpy_pickle.py:650\u001b[0m, in \u001b[0;36mload\u001b[1;34m(filename, mmap_mode)\u001b[0m\n\u001b[0;32m    648\u001b[0m         obj \u001b[38;5;241m=\u001b[39m _unpickle(fobj)\n\u001b[0;32m    649\u001b[0m \u001b[38;5;28;01melse\u001b[39;00m:\n\u001b[1;32m--> 650\u001b[0m     \u001b[38;5;28;01mwith\u001b[39;00m \u001b[38;5;28;43mopen\u001b[39;49m\u001b[43m(\u001b[49m\u001b[43mfilename\u001b[49m\u001b[43m,\u001b[49m\u001b[43m \u001b[49m\u001b[38;5;124;43m'\u001b[39;49m\u001b[38;5;124;43mrb\u001b[39;49m\u001b[38;5;124;43m'\u001b[39;49m\u001b[43m)\u001b[49m \u001b[38;5;28;01mas\u001b[39;00m f:\n\u001b[0;32m    651\u001b[0m         \u001b[38;5;28;01mwith\u001b[39;00m _read_fileobject(f, filename, mmap_mode) \u001b[38;5;28;01mas\u001b[39;00m fobj:\n\u001b[0;32m    652\u001b[0m             \u001b[38;5;28;01mif\u001b[39;00m \u001b[38;5;28misinstance\u001b[39m(fobj, \u001b[38;5;28mstr\u001b[39m):\n\u001b[0;32m    653\u001b[0m                 \u001b[38;5;66;03m# if the returned file object is a string, this means we\u001b[39;00m\n\u001b[0;32m    654\u001b[0m                 \u001b[38;5;66;03m# try to load a pickle file generated with an version of\u001b[39;00m\n\u001b[0;32m    655\u001b[0m                 \u001b[38;5;66;03m# Joblib so we load it with joblib compatibility function.\u001b[39;00m\n",
      "\u001b[1;31mFileNotFoundError\u001b[0m: [Errno 2] No such file or directory: 'Heart_Attack_Prediction_model1.pkl'"
     ]
    }
   ],
   "source": [
    "import joblib\n",
    "import numpy as np\n",
    "import gradio as gr\n",
    "\n",
    "# Load the trained model, polynomial transformer, and scaler\n",
    "model = joblib.load(\"Heart_Attack_Prediction_model1.pkl\")\n",
    "poly = joblib.load(\"poly_transformer1.pkl\")\n",
    "scaler = joblib.load(\"scaler1.pkl\")\n",
    "\n",
    "# Define prediction function\n",
    "def predict(age, gender, smoking_status, alcohol_consumption, physical_activity, \n",
    "            sleep_duration, diabetes, hypertension, cholesterol, bmi, stress_level):\n",
    "    \n",
    "    # Convert categorical inputs into numerical format\n",
    "    gender = 1 if gender.lower() == \"male\" else 0\n",
    "    smoking_status = 1 if smoking_status.lower() == \"yes\" else 0\n",
    "    alcohol_consumption = 1 if alcohol_consumption.lower() == \"yes\" else 0\n",
    "    diabetes = 1 if diabetes.lower() == \"yes\" else 0\n",
    "    hypertension = 1 if hypertension.lower() == \"yes\" else 0\n",
    "    stress_level_map = {\"low\": 0, \"medium\": 1, \"high\": 2}\n",
    "    stress_level = stress_level_map.get(stress_level.lower(), 1)  # Default: Medium\n",
    "    physical_activity_map = {\"low\": 0, \"medium\": 1, \"high\": 2}\n",
    "    physical_activity = physical_activity_map.get(physical_activity.lower(), 1)  # Default: Medium\n",
    "\n",
    "    # Create feature array\n",
    "    features = np.array([age, gender, smoking_status, alcohol_consumption, physical_activity, \n",
    "                         sleep_duration, diabetes, hypertension, cholesterol, bmi, stress_level], dtype=float).reshape(1, -1)\n",
    "    \n",
    "    # Apply polynomial transformation and scaling\n",
    "    features_poly = poly.transform(features)\n",
    "    features_scaled = scaler.transform(features_poly)\n",
    "    \n",
    "    # Predict\n",
    "    prediction = model.predict(features_scaled)\n",
    "    return f\"Predicted Heart Attack Risk: {prediction[0]}\"\n",
    "\n",
    "# Define Gradio Interface with selected features\n",
    "inputs = [\n",
    "    gr.Number(label=\"Age\"),\n",
    "    gr.Radio([\"Male\", \"Female\"], label=\"Gender\"),\n",
    "    gr.Radio([\"Yes\", \"No\"], label=\"Smoking Status\"),\n",
    "    gr.Radio([\"Yes\", \"No\"], label=\"Alcohol Consumption\"),\n",
    "    gr.Radio([\"Low\", \"Medium\", \"High\"], label=\"Physical Activity Level\"),\n",
    "    gr.Number(label=\"Sleep Duration (Hours)\"),\n",
    "    gr.Radio([\"Yes\", \"No\"], label=\"Diabetes\"),\n",
    "    gr.Radio([\"Yes\", \"No\"], label=\"Hypertension\"),\n",
    "    gr.Number(label=\"Cholesterol Level\"),\n",
    "    gr.Number(label=\"BMI\"),\n",
    "    gr.Radio([\"Low\", \"Medium\", \"High\"], label=\"Stress Level\"),\n",
    "]\n",
    "\n",
    "# Launch Gradio App\n",
    "interface = gr.Interface(fn=predict, inputs=inputs, outputs=\"text\")\n",
    "interface.launch()\n"
   ]
  },
  {
   "cell_type": "code",
   "execution_count": null,
   "id": "f80c3633-1dd8-419b-a5c6-6c4554384cbc",
   "metadata": {},
   "outputs": [],
   "source": []
  },
  {
   "cell_type": "code",
   "execution_count": null,
   "id": "998da26d-1a51-43e7-bebb-c98037bf9048",
   "metadata": {},
   "outputs": [],
   "source": []
  },
  {
   "cell_type": "code",
   "execution_count": null,
   "id": "719f08b9-8b79-4ceb-9052-9b56e2f3145e",
   "metadata": {},
   "outputs": [],
   "source": []
  },
  {
   "cell_type": "code",
   "execution_count": null,
   "id": "1ece9195-2cbc-4227-ba98-b5b3a933e932",
   "metadata": {},
   "outputs": [],
   "source": []
  },
  {
   "cell_type": "code",
   "execution_count": null,
   "id": "15b2c92f-82b4-4411-871b-284ad346fc01",
   "metadata": {},
   "outputs": [],
   "source": []
  },
  {
   "cell_type": "code",
   "execution_count": 3,
   "id": "78bf56a1-3249-4b5c-baf2-8212238e4da4",
   "metadata": {},
   "outputs": [
    {
     "name": "stdout",
     "output_type": "stream",
     "text": [
      "* Running on local URL:  http://127.0.0.1:7860\n",
      "\n",
      "To create a public link, set `share=True` in `launch()`.\n"
     ]
    },
    {
     "data": {
      "text/html": [
       "<div><iframe src=\"http://127.0.0.1:7860/\" width=\"100%\" height=\"500\" allow=\"autoplay; camera; microphone; clipboard-read; clipboard-write;\" frameborder=\"0\" allowfullscreen></iframe></div>"
      ],
      "text/plain": [
       "<IPython.core.display.HTML object>"
      ]
     },
     "metadata": {},
     "output_type": "display_data"
    },
    {
     "data": {
      "text/plain": []
     },
     "execution_count": 3,
     "metadata": {},
     "output_type": "execute_result"
    }
   ],
   "source": [
    "import gradio as gr\n",
    "import joblib\n",
    "import numpy as np\n",
    "import pandas as pd\n",
    "from sklearn.preprocessing import LabelEncoder\n",
    "\n",
    "# Load the saved model, transformer, and scaler\n",
    "model = joblib.load(r\"C:\\Users\\HP\\Documents\\datascience projects\\heart attack prediction\\Heart_Attack_Prediction_model.pkl\")\n",
    "\n",
    "\n",
    "# LabelEncoder for categorical features\n",
    "encoder = LabelEncoder()\n",
    "\n",
    "# Define a function to preprocess input features and make predictions\n",
    "def predict_heart_attack(Age, Gender, Region, Urban_Rural, SES, Smoking_Status, Alcohol_Consumption, \n",
    "                         Diet_Type, Physical_Activity_Level, Screen_Time, Sleep_Duration, Family_History_of_Heart_Disease, \n",
    "                         Diabetes, Hypertension, Cholesterol_Levels, BMI, Stress_Level, Resting_Heart_Rate, \n",
    "                         ECG_Results, Chest_Pain_Type, Maximum_Heart_Rate_Achieved, Exercise_Induced_Angina, \n",
    "                         Blood_Oxygen_Levels, Triglyceride_Levels):\n",
    "    \n",
    "    # Create a dictionary of input features\n",
    "    input_features = {\n",
    "        \"Age\": Age,\n",
    "        \"Gender\": Gender,\n",
    "        \"Region\": Region,\n",
    "        \"Urban/Rural\": Urban_Rural,\n",
    "        \"SES\": SES,\n",
    "        \"Smoking_Status\": Smoking_Status,\n",
    "        \"Alcohol_Consumption\": Alcohol_Consumption,\n",
    "        \"Diet_Type\": Diet_Type,\n",
    "        \"Physical_Activity_Level\": Physical_Activity_Level,\n",
    "        \"Screen_Time\": Screen_Time,\n",
    "        \"Sleep_Duration\": Sleep_Duration,\n",
    "        \"Family_History_of_Heart_Disease\": Family_History_of_Heart_Disease,\n",
    "        \"Diabetes\": Diabetes,\n",
    "        \"Hypertension\": Hypertension,\n",
    "        \"Cholesterol_Levels\": Cholesterol_Levels,\n",
    "        \"BMI\": BMI,\n",
    "        \"Stress_Level\": Stress_Level,\n",
    "        \"Resting_Heart_Rate\": Resting_Heart_Rate,\n",
    "        \"ECG_Results\": ECG_Results,\n",
    "        \"Chest_Pain_Type\": Chest_Pain_Type,\n",
    "        \"Maximum_Heart_Rate_Achieved\": Maximum_Heart_Rate_Achieved,\n",
    "        \"Exercise_Induced_Angina\": Exercise_Induced_Angina,\n",
    "        \"Blood_Oxygen_Levels\": Blood_Oxygen_Levels,\n",
    "        \"Triglyceride_Levels\": Triglyceride_Levels\n",
    "    }\n",
    "    \n",
    "    # Convert input features into a DataFrame\n",
    "    features = pd.DataFrame([input_features])\n",
    "    \n",
    "    # Encode categorical features\n",
    "    cat_cols = features.select_dtypes(include='object').columns\n",
    "    for col in cat_cols:\n",
    "        features[col] = encoder.fit_transform(features[col])\n",
    "\n",
    "    # Standardize the features\n",
    "    features_std = scaler.transform(features)\n",
    "\n",
    "    # Apply PolynomialFeatures transformation\n",
    "    features_poly = poly_transformer.transform(features_std)\n",
    "\n",
    "    # Make a prediction\n",
    "    prediction = model.predict(features_poly)\n",
    "\n",
    "    # Return the prediction result\n",
    "    return \"Yes\" if prediction[0] == 1 else \"No\"\n",
    "\n",
    "# Define the input interface for Gradio\n",
    "inputs = [\n",
    "    gr.components.Number(label=\"Age\"),\n",
    "    gr.components.Dropdown(choices=[\"Male\", \"Female\"], label=\"Gender\"),\n",
    "    gr.components.Textbox(label=\"Region\"),\n",
    "    gr.components.Dropdown(choices=[\"Urban\", \"Rural\"], label=\"Urban/Rural\"),\n",
    "    gr.components.Textbox(label=\"SES\"),\n",
    "    gr.components.Dropdown(choices=[\"Smoker\", \"Non-Smoker\"], label=\"Smoking Status\"),\n",
    "    gr.components.Dropdown(choices=[\"Yes\", \"No\"], label=\"Alcohol Consumption\"),\n",
    "    gr.components.Dropdown(choices=[\"Vegetarian\", \"Non-Vegetarian\"], label=\"Diet Type\"),\n",
    "    gr.components.Dropdown(choices=[\"Low\", \"Medium\", \"High\"], label=\"Physical Activity Level\"),\n",
    "    gr.components.Number(label=\"Screen Time\"),\n",
    "    gr.components.Number(label=\"Sleep Duration\"),\n",
    "    gr.components.Dropdown(choices=[\"Yes\", \"No\"], label=\"Family History of Heart Disease\"),\n",
    "    gr.components.Dropdown(choices=[\"Yes\", \"No\"], label=\"Diabetes\"),\n",
    "    gr.components.Dropdown(choices=[\"Yes\", \"No\"], label=\"Hypertension\"),\n",
    "    gr.components.Number(label=\"Cholesterol Levels\"),\n",
    "    gr.components.Number(label=\"BMI\"),\n",
    "    gr.components.Number(label=\"Stress Level\"),\n",
    "    gr.components.Number(label=\"Resting Heart Rate\"),\n",
    "    gr.components.Dropdown(choices=[\"Normal\", \"Abnormal\"], label=\"ECG Results\"),\n",
    "    gr.components.Dropdown(choices=[\"Typical\", \"Atypical\", \"Non-Anginal\", \"Asymptomatic\"], label=\"Chest Pain Type\"),\n",
    "    gr.components.Number(label=\"Maximum Heart Rate Achieved\"),\n",
    "    gr.components.Dropdown(choices=[\"Yes\", \"No\"], label=\"Exercise Induced Angina\"),\n",
    "    gr.components.Number(label=\"Blood Oxygen Levels\"),\n",
    "    gr.components.Number(label=\"Triglyceride Levels\")\n",
    "]\n",
    "\n",
    "# Define the output interface\n",
    "output = gr.components.Textbox(label=\"Heart Attack Likelihood\")\n",
    "\n",
    "# Create the Gradio interface\n",
    "gr.Interface(fn=predict_heart_attack, inputs=inputs, outputs=output, live=True).launch()"
   ]
  },
  {
   "cell_type": "code",
   "execution_count": null,
   "id": "fddd4820-510a-43dc-b4cf-f9f2b9d320f2",
   "metadata": {},
   "outputs": [],
   "source": []
  },
  {
   "cell_type": "code",
   "execution_count": null,
   "id": "5e76fa83-accc-4aa4-8d5f-859de1750c71",
   "metadata": {},
   "outputs": [],
   "source": []
  }
 ],
 "metadata": {
  "kernelspec": {
   "display_name": "Python 3 (ipykernel)",
   "language": "python",
   "name": "python3"
  },
  "language_info": {
   "codemirror_mode": {
    "name": "ipython",
    "version": 3
   },
   "file_extension": ".py",
   "mimetype": "text/x-python",
   "name": "python",
   "nbconvert_exporter": "python",
   "pygments_lexer": "ipython3",
   "version": "3.12.6"
  }
 },
 "nbformat": 4,
 "nbformat_minor": 5
}
